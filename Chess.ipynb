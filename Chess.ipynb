{
 "cells": [
  {
   "cell_type": "code",
   "execution_count": 3,
   "metadata": {},
   "outputs": [
    {
     "name": "stdout",
     "output_type": "stream",
     "text": [
      "ENTER THE POSITION: A1\n",
      "BLACK\n"
     ]
    }
   ],
   "source": [
    "inp = input(\"ENTER THE POSITION: \")\n",
    "l=len(inp)\n",
    "al=inp[0]\n",
    "al=al.lower()\n",
    "nu=inp[1:l]\n",
    "if (nu.isdigit()==True):\n",
    "    nu=int(nu)\n",
    "    if(0<nu<9):\n",
    "        if al=='a' or al=='c' or al =='e' or al=='g':\n",
    "            if nu==1 or nu==3 or nu==5 or nu==7:\n",
    "                print(\"BLACK\")\n",
    "            else:\n",
    "                print(\"WHITE\")\n",
    "        elif al=='b' or al=='d' or al=='f' or al=='h':\n",
    "            if nu==1 or nu==3 or nu==5 or nu==7:\n",
    "                print(\"WHITE\")\n",
    "            else:\n",
    "                print(\"BLACK\")\n",
    "        else:\n",
    "            print(\"ENTER THE VALID POSITION\")        \n",
    "    else:\n",
    "        print(\"ENTER THE VALID POSITION\")\n",
    "else:\n",
    "    print(\"ENTER THE VALID POSITION\")\n",
    "\n",
    "    "
   ]
  },
  {
   "cell_type": "code",
   "execution_count": null,
   "metadata": {},
   "outputs": [],
   "source": []
  }
 ],
 "metadata": {
  "kernelspec": {
   "display_name": "Python 3",
   "language": "python",
   "name": "python3"
  },
  "language_info": {
   "codemirror_mode": {
    "name": "ipython",
    "version": 3
   },
   "file_extension": ".py",
   "mimetype": "text/x-python",
   "name": "python",
   "nbconvert_exporter": "python",
   "pygments_lexer": "ipython3",
   "version": "3.7.0"
  }
 },
 "nbformat": 4,
 "nbformat_minor": 2
}
